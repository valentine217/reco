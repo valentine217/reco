{
 "cells": [
  {
   "cell_type": "markdown",
   "metadata": {},
   "source": [
    "# H&M RECO test C2W2"
   ]
  },
  {
   "cell_type": "markdown",
   "metadata": {},
   "source": [
    "Prepare"
   ]
  },
  {
   "cell_type": "code",
   "execution_count": 1,
   "metadata": {},
   "outputs": [],
   "source": [
    "import pandas as pd\n",
    "import numpy as np"
   ]
  },
  {
   "cell_type": "markdown",
   "metadata": {},
   "source": [
    "Define util functions"
   ]
  },
  {
   "cell_type": "code",
   "execution_count": 2,
   "metadata": {},
   "outputs": [],
   "source": [
    "def get_top_users(uu_corr, target_user, n=5):\n",
    "    \"\"\" Get target user's top neighbours. \"\"\"\n",
    "    # loc(): Access a group of rows and columns by label(s) or a boolean array.\n",
    "    target_corr = uu_corr.loc[target_user]\n",
    "    #print(\"target user's corr:\",target_corr)\n",
    "    \n",
    "    # iloc() : Purely integer-location based indexing for selection by position. e.g. select a row or a column.\n",
    "    # nlargest(): Return the largest n elements.\n",
    "    top_neighbours = target_corr.nlargest(n+1).iloc[1:]\n",
    "    #print(\"target user's top neighbours:\",top_neighbours)\n",
    "    \n",
    "    return top_neighbours"
   ]
  },
  {
   "cell_type": "code",
   "execution_count": 3,
   "metadata": {},
   "outputs": [],
   "source": [
    "def get_user_movie_score(target_movie, target_user):\n",
    "    \"\"\" Calculate the ucer-movie score for a target user. \"\"\"\n",
    "    top_neighbours = get_top_users(uu_corr, target_user)\n",
    "    ratings_sum = 0\n",
    "    weight_sum = 0\n",
    "    for target_user, each_weight in zip(top_neighbours.index, top_neighbours.values):\n",
    "        # Test element-wise for NaN and return result as a boolean array.\n",
    "        if np.isnan(target_movie[target_user]): \n",
    "            continue\n",
    "        ratings_sum += target_movie[target_user] * each_weight\n",
    "        weight_sum += each_weight\n",
    "    if weight_sum == 0:\n",
    "        return 0\n",
    "    return ratings_sum/weight_sum"
   ]
  },
  {
   "cell_type": "code",
   "execution_count": 4,
   "metadata": {},
   "outputs": [],
   "source": [
    "def get_user_movie_score_normalized(target_movie, target_user):\n",
    "    \"\"\" Calculate the ucer-movie score for a target user with normalization. \"\"\"\n",
    "    \n",
    "    top_neighbours = get_top_users(uu_corr, target_user)\n",
    "    \n",
    "    ratings_sum = 0\n",
    "    weight_sum = 0\n",
    "    \n",
    "    user_rating_mean = soucre_df.loc[:,target_user].mean()\n",
    "    \n",
    "    for target_user, each_weight in zip(\n",
    "        top_neighbours.index, \n",
    "        top_neighbours.values,\n",
    "    ):\n",
    "        if np.isnan(target_movie[target_user]): \n",
    "            continue\n",
    "            \n",
    "        movie_user_mean = soucre_df.loc[:,target_user].mean()\n",
    "        ratings_sum += (target_movie[target_user] - movie_user_mean) * each_weight\n",
    "        weight_sum += each_weight\n",
    "        \n",
    "    if weight_sum == 0:\n",
    "        return 0\n",
    "    \n",
    "    return user_rating_mean + ratings_sum/ weight_sum"
   ]
  },
  {
   "cell_type": "code",
   "execution_count": 5,
   "metadata": {},
   "outputs": [],
   "source": [
    "def print_prediction_results(target_user_id, soucre_df, calculation_function):\n",
    "    \"\"\" Print results. \"\"\"\n",
    "    \n",
    "    predict_result = soucre_df.apply(\n",
    "        calculation_function,\n",
    "        axis=1,\n",
    "        args=(target_user_id,),\n",
    "    )\n",
    "\n",
    "    final_result = predict_result.sort_values(ascending=False)[:3]\n",
    "    return f\"For tagert user {target_user_id}, the predict results as below: {final_result}\""
   ]
  },
  {
   "cell_type": "markdown",
   "metadata": {},
   "source": [
    "Load data"
   ]
  },
  {
   "cell_type": "code",
   "execution_count": 6,
   "metadata": {},
   "outputs": [
    {
     "data": {
      "text/html": [
       "<div>\n",
       "<style scoped>\n",
       "    .dataframe tbody tr th:only-of-type {\n",
       "        vertical-align: middle;\n",
       "    }\n",
       "\n",
       "    .dataframe tbody tr th {\n",
       "        vertical-align: top;\n",
       "    }\n",
       "\n",
       "    .dataframe thead th {\n",
       "        text-align: right;\n",
       "    }\n",
       "</style>\n",
       "<table border=\"1\" class=\"dataframe\">\n",
       "  <thead>\n",
       "    <tr style=\"text-align: right;\">\n",
       "      <th></th>\n",
       "      <th>1648</th>\n",
       "      <th>5136</th>\n",
       "      <th>918</th>\n",
       "      <th>2824</th>\n",
       "      <th>3867</th>\n",
       "      <th>860</th>\n",
       "      <th>3712</th>\n",
       "      <th>2968</th>\n",
       "      <th>3525</th>\n",
       "      <th>4323</th>\n",
       "      <th>...</th>\n",
       "      <th>3556</th>\n",
       "      <th>5261</th>\n",
       "      <th>2492</th>\n",
       "      <th>5062</th>\n",
       "      <th>2486</th>\n",
       "      <th>4942</th>\n",
       "      <th>2267</th>\n",
       "      <th>4809</th>\n",
       "      <th>3853</th>\n",
       "      <th>2288</th>\n",
       "    </tr>\n",
       "  </thead>\n",
       "  <tbody>\n",
       "    <tr>\n",
       "      <th>11: Star Wars: Episode IV - A New Hope (1977)</th>\n",
       "      <td>NaN</td>\n",
       "      <td>4.5</td>\n",
       "      <td>5.0</td>\n",
       "      <td>4.5</td>\n",
       "      <td>4.0</td>\n",
       "      <td>4.0</td>\n",
       "      <td>NaN</td>\n",
       "      <td>5.0</td>\n",
       "      <td>4.0</td>\n",
       "      <td>5.0</td>\n",
       "      <td>...</td>\n",
       "      <td>4.0</td>\n",
       "      <td>NaN</td>\n",
       "      <td>4.5</td>\n",
       "      <td>4.0</td>\n",
       "      <td>3.5</td>\n",
       "      <td>NaN</td>\n",
       "      <td>NaN</td>\n",
       "      <td>NaN</td>\n",
       "      <td>NaN</td>\n",
       "      <td>NaN</td>\n",
       "    </tr>\n",
       "    <tr>\n",
       "      <th>12: Finding Nemo (2003)</th>\n",
       "      <td>NaN</td>\n",
       "      <td>5.0</td>\n",
       "      <td>5.0</td>\n",
       "      <td>NaN</td>\n",
       "      <td>4.0</td>\n",
       "      <td>4.0</td>\n",
       "      <td>4.5</td>\n",
       "      <td>4.5</td>\n",
       "      <td>4.0</td>\n",
       "      <td>5.0</td>\n",
       "      <td>...</td>\n",
       "      <td>4.0</td>\n",
       "      <td>NaN</td>\n",
       "      <td>3.5</td>\n",
       "      <td>4.0</td>\n",
       "      <td>2.0</td>\n",
       "      <td>3.5</td>\n",
       "      <td>NaN</td>\n",
       "      <td>NaN</td>\n",
       "      <td>NaN</td>\n",
       "      <td>3.5</td>\n",
       "    </tr>\n",
       "    <tr>\n",
       "      <th>13: Forrest Gump (1994)</th>\n",
       "      <td>NaN</td>\n",
       "      <td>5.0</td>\n",
       "      <td>4.5</td>\n",
       "      <td>5.0</td>\n",
       "      <td>4.5</td>\n",
       "      <td>4.5</td>\n",
       "      <td>NaN</td>\n",
       "      <td>5.0</td>\n",
       "      <td>4.5</td>\n",
       "      <td>5.0</td>\n",
       "      <td>...</td>\n",
       "      <td>4.0</td>\n",
       "      <td>5.0</td>\n",
       "      <td>3.5</td>\n",
       "      <td>4.5</td>\n",
       "      <td>4.5</td>\n",
       "      <td>4.0</td>\n",
       "      <td>3.5</td>\n",
       "      <td>4.5</td>\n",
       "      <td>3.5</td>\n",
       "      <td>3.5</td>\n",
       "    </tr>\n",
       "    <tr>\n",
       "      <th>14: American Beauty (1999)</th>\n",
       "      <td>NaN</td>\n",
       "      <td>4.0</td>\n",
       "      <td>NaN</td>\n",
       "      <td>NaN</td>\n",
       "      <td>NaN</td>\n",
       "      <td>NaN</td>\n",
       "      <td>4.5</td>\n",
       "      <td>2.0</td>\n",
       "      <td>3.5</td>\n",
       "      <td>5.0</td>\n",
       "      <td>...</td>\n",
       "      <td>4.0</td>\n",
       "      <td>NaN</td>\n",
       "      <td>3.5</td>\n",
       "      <td>4.5</td>\n",
       "      <td>3.5</td>\n",
       "      <td>4.0</td>\n",
       "      <td>NaN</td>\n",
       "      <td>3.5</td>\n",
       "      <td>NaN</td>\n",
       "      <td>NaN</td>\n",
       "    </tr>\n",
       "    <tr>\n",
       "      <th>22: Pirates of the Caribbean: The Curse of the Black Pearl (2003)</th>\n",
       "      <td>4.0</td>\n",
       "      <td>5.0</td>\n",
       "      <td>3.0</td>\n",
       "      <td>4.5</td>\n",
       "      <td>4.0</td>\n",
       "      <td>2.5</td>\n",
       "      <td>NaN</td>\n",
       "      <td>5.0</td>\n",
       "      <td>3.0</td>\n",
       "      <td>4.0</td>\n",
       "      <td>...</td>\n",
       "      <td>3.0</td>\n",
       "      <td>1.5</td>\n",
       "      <td>4.0</td>\n",
       "      <td>4.0</td>\n",
       "      <td>2.5</td>\n",
       "      <td>3.5</td>\n",
       "      <td>NaN</td>\n",
       "      <td>5.0</td>\n",
       "      <td>NaN</td>\n",
       "      <td>3.5</td>\n",
       "    </tr>\n",
       "  </tbody>\n",
       "</table>\n",
       "<p>5 rows × 25 columns</p>\n",
       "</div>"
      ],
      "text/plain": [
       "                                                    1648  5136  918   2824  \\\n",
       "11: Star Wars: Episode IV - A New Hope (1977)        NaN   4.5   5.0   4.5   \n",
       "12: Finding Nemo (2003)                              NaN   5.0   5.0   NaN   \n",
       "13: Forrest Gump (1994)                              NaN   5.0   4.5   5.0   \n",
       "14: American Beauty (1999)                           NaN   4.0   NaN   NaN   \n",
       "22: Pirates of the Caribbean: The Curse of the ...   4.0   5.0   3.0   4.5   \n",
       "\n",
       "                                                    3867  860   3712  2968  \\\n",
       "11: Star Wars: Episode IV - A New Hope (1977)        4.0   4.0   NaN   5.0   \n",
       "12: Finding Nemo (2003)                              4.0   4.0   4.5   4.5   \n",
       "13: Forrest Gump (1994)                              4.5   4.5   NaN   5.0   \n",
       "14: American Beauty (1999)                           NaN   NaN   4.5   2.0   \n",
       "22: Pirates of the Caribbean: The Curse of the ...   4.0   2.5   NaN   5.0   \n",
       "\n",
       "                                                    3525  4323  ...  3556  \\\n",
       "11: Star Wars: Episode IV - A New Hope (1977)        4.0   5.0  ...   4.0   \n",
       "12: Finding Nemo (2003)                              4.0   5.0  ...   4.0   \n",
       "13: Forrest Gump (1994)                              4.5   5.0  ...   4.0   \n",
       "14: American Beauty (1999)                           3.5   5.0  ...   4.0   \n",
       "22: Pirates of the Caribbean: The Curse of the ...   3.0   4.0  ...   3.0   \n",
       "\n",
       "                                                    5261  2492  5062  2486  \\\n",
       "11: Star Wars: Episode IV - A New Hope (1977)        NaN   4.5   4.0   3.5   \n",
       "12: Finding Nemo (2003)                              NaN   3.5   4.0   2.0   \n",
       "13: Forrest Gump (1994)                              5.0   3.5   4.5   4.5   \n",
       "14: American Beauty (1999)                           NaN   3.5   4.5   3.5   \n",
       "22: Pirates of the Caribbean: The Curse of the ...   1.5   4.0   4.0   2.5   \n",
       "\n",
       "                                                    4942  2267  4809  3853  \\\n",
       "11: Star Wars: Episode IV - A New Hope (1977)        NaN   NaN   NaN   NaN   \n",
       "12: Finding Nemo (2003)                              3.5   NaN   NaN   NaN   \n",
       "13: Forrest Gump (1994)                              4.0   3.5   4.5   3.5   \n",
       "14: American Beauty (1999)                           4.0   NaN   3.5   NaN   \n",
       "22: Pirates of the Caribbean: The Curse of the ...   3.5   NaN   5.0   NaN   \n",
       "\n",
       "                                                    2288  \n",
       "11: Star Wars: Episode IV - A New Hope (1977)        NaN  \n",
       "12: Finding Nemo (2003)                              3.5  \n",
       "13: Forrest Gump (1994)                              3.5  \n",
       "14: American Beauty (1999)                           NaN  \n",
       "22: Pirates of the Caribbean: The Curse of the ...   3.5  \n",
       "\n",
       "[5 rows x 25 columns]"
      ]
     },
     "execution_count": 6,
     "metadata": {},
     "output_type": "execute_result"
    }
   ],
   "source": [
    "soucre_df = pd.read_excel('data/uucf_source_spreadsheet.xls', index_col=0)\n",
    "soucre_df.head()"
   ]
  },
  {
   "cell_type": "code",
   "execution_count": 7,
   "metadata": {},
   "outputs": [],
   "source": [
    "# Compute pairwise correlation of columns, excluding NA/null values.\n",
    "uu_corr = soucre_df.corr()"
   ]
  },
  {
   "cell_type": "markdown",
   "metadata": {},
   "source": [
    "Part 1 - Without Normalization"
   ]
  },
  {
   "cell_type": "code",
   "execution_count": 8,
   "metadata": {},
   "outputs": [
    {
     "data": {
      "text/plain": [
       "'For tagert user 3867, the predict results as below: 1891: Star Wars: Episode V - The Empire Strikes Back (1980)    4.760291\\n155: The Dark Knight (2008)                                    4.551454\\n122: The Lord of the Rings: The Return of the King (2003)      4.507637\\ndtype: float64'"
      ]
     },
     "execution_count": 8,
     "metadata": {},
     "output_type": "execute_result"
    }
   ],
   "source": [
    "print_prediction_results(3867, soucre_df, get_user_movie_score)"
   ]
  },
  {
   "cell_type": "code",
   "execution_count": 9,
   "metadata": {},
   "outputs": [
    {
     "data": {
      "text/plain": [
       "'For tagert user 89, the predict results as below: 238: The Godfather (1972)               4.894124\\n278: The Shawshank Redemption (1994)    4.882194\\n807: Seven (a.k.a. Se7en) (1995)        4.774093\\ndtype: float64'"
      ]
     },
     "execution_count": 9,
     "metadata": {},
     "output_type": "execute_result"
    }
   ],
   "source": [
    "print_prediction_results(89, soucre_df, get_user_movie_score)"
   ]
  },
  {
   "cell_type": "markdown",
   "metadata": {},
   "source": [
    "Part 2 - Normalization"
   ]
  },
  {
   "cell_type": "code",
   "execution_count": 10,
   "metadata": {},
   "outputs": [
    {
     "data": {
      "text/plain": [
       "'For tagert user 3867, the predict results as below: 1891: Star Wars: Episode V - The Empire Strikes Back (1980)    5.245509\\n155: The Dark Knight (2008)                                    4.856770\\n77: Memento (2000)                                             4.777803\\ndtype: float64'"
      ]
     },
     "execution_count": 10,
     "metadata": {},
     "output_type": "execute_result"
    }
   ],
   "source": [
    "print_prediction_results(3867, soucre_df, get_user_movie_score_normalized)"
   ]
  },
  {
   "cell_type": "code",
   "execution_count": 11,
   "metadata": {},
   "outputs": [
    {
     "data": {
      "text/plain": [
       "'For tagert user 89, the predict results as below: 238: The Godfather (1972)               5.322015\\n278: The Shawshank Redemption (1994)    5.261424\\n275: Fargo (1996)                       5.241111\\ndtype: float64'"
      ]
     },
     "execution_count": 11,
     "metadata": {},
     "output_type": "execute_result"
    }
   ],
   "source": [
    "print_prediction_results(89, soucre_df, get_user_movie_score_normalized)"
   ]
  }
 ],
 "metadata": {
  "kernelspec": {
   "display_name": "Python 3",
   "language": "python",
   "name": "python3"
  },
  "language_info": {
   "codemirror_mode": {
    "name": "ipython",
    "version": 3
   },
   "file_extension": ".py",
   "mimetype": "text/x-python",
   "name": "python",
   "nbconvert_exporter": "python",
   "pygments_lexer": "ipython3",
   "version": "3.7.3"
  }
 },
 "nbformat": 4,
 "nbformat_minor": 2
}
